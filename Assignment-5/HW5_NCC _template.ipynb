{
 "cells": [
  {
   "cell_type": "code",
   "execution_count": 19,
   "metadata": {},
   "outputs": [],
   "source": [
    "import numpy as np\n",
    "import cv2"
   ]
  },
  {
   "cell_type": "code",
   "execution_count": 23,
   "metadata": {},
   "outputs": [],
   "source": [
    "search_image = cv2.imread('search.png')\n",
    "template_image = cv2.imread('template.png')\n",
    "\n",
    "search_lab = cv2.cvtColor(search_image, cv2.COLOR_BGR2Lab)\n",
    "template_lab = cv2.cvtColor(template_image, cv2.COLOR_BGR2Lab)\n"
   ]
  },
  {
   "cell_type": "code",
   "execution_count": 25,
   "metadata": {},
   "outputs": [],
   "source": [
    "template_height, template_width = template_image.shape[:2]\n",
    "# Calculating half_width and half_height to ensure template is placed entirely within search image\n",
    "half_width = template_width // 2 \n",
    "half_height = template_height // 2\n",
    "\n",
    "# print(half_width)\n",
    "# print(half_height)"
   ]
  },
  {
   "cell_type": "code",
   "execution_count": 26,
   "metadata": {},
   "outputs": [],
   "source": [
    "scores = []\n",
    "positions = []\n",
    "\n",
    "# Iterating over the search image\n",
    "for y in range(half_height, search_image.shape[0] - half_height):\n",
    "    for x in range(half_width, search_image.shape[1] - half_width):\n",
    "        # Extracting region of interest from search image and resizing it to template size\n",
    "        roi = search_lab[y - half_height:y + half_height, x - half_width:x + half_width]\n",
    "        roi_resized = cv2.resize(roi, (template_width, template_height))\n",
    "        \n",
    "        # Normalize template and resized region of interest\n",
    "        normalized_template = (template_lab - np.mean(template_lab)) / np.std(template_lab)\n",
    "        normalized_roi = (roi_resized - np.mean(roi_resized)) / np.std(roi_resized)\n",
    "\n",
    "        ncc_metric = np.sum(normalized_template * normalized_roi) # Computing the color-based NCC metric\n",
    "\n",
    "        scores.append(ncc_metric) # Storing score and position\n",
    "        positions.append((x, y))"
   ]
  },
  {
   "cell_type": "code",
   "execution_count": 30,
   "metadata": {},
   "outputs": [],
   "source": [
    "# Sorting the socres and positions in descending order\n",
    "sorted_indices = np.argsort(scores)[::-1]\n",
    "sorted_scores = np.array(scores)[sorted_indices]\n",
    "sorted_positions = np.array(positions)[sorted_indices]\n",
    "\n",
    "# Define the indices for specific matches to visualize\n",
    "indices_to_visualize = [0, 1, 4, 9, 99, 499]\n",
    "\n",
    "# Display patches for specific matches\n",
    "for i in indices_to_visualize:\n",
    "    x, y = sorted_positions[i]\n",
    "    patch = search_image[y - half_height:y + half_height, x - half_width:x + half_width]\n",
    "    cv2.imwrite(f'match_{i+1}.png', patch)\n",
    "    cv2.imshow(f'Patch {i+1}', patch)\n",
    "\n",
    "cv2.waitKey(0)\n",
    "cv2.destroyAllWindows()"
   ]
  },
  {
   "cell_type": "code",
   "execution_count": null,
   "metadata": {},
   "outputs": [],
   "source": []
  }
 ],
 "metadata": {
  "kernelspec": {
   "display_name": "ComputerVision",
   "language": "python",
   "name": "python3"
  },
  "language_info": {
   "codemirror_mode": {
    "name": "ipython",
    "version": 3
   },
   "file_extension": ".py",
   "mimetype": "text/x-python",
   "name": "python",
   "nbconvert_exporter": "python",
   "pygments_lexer": "ipython3",
   "version": "3.9.16"
  },
  "orig_nbformat": 4
 },
 "nbformat": 4,
 "nbformat_minor": 2
}
